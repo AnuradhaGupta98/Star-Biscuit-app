{
 "cells": [
  {
   "cell_type": "markdown",
   "id": "79c46708",
   "metadata": {},
   "source": [
    "### CRUD OPERATIONS\n",
    "```\n",
    "C : CREATE\n",
    "R : READ\n",
    "U : UPDATE\n",
    "D : DELETE\n",
    "```"
   ]
  },
  {
   "cell_type": "code",
   "execution_count": null,
   "id": "3f013d41",
   "metadata": {},
   "outputs": [],
   "source": [
    "# Installing pymysql library\n",
    "\n",
    "!pip install pymysql"
   ]
  },
  {
   "cell_type": "code",
   "execution_count": 2,
   "id": "4c34073b",
   "metadata": {},
   "outputs": [],
   "source": [
    "# Importing pymysql librarry\n",
    "\n",
    "import pymysql"
   ]
  },
  {
   "cell_type": "code",
   "execution_count": 3,
   "id": "9f5f0149",
   "metadata": {},
   "outputs": [
    {
     "name": "stdout",
     "output_type": "stream",
     "text": [
      "Connected with mysql successfully...\n"
     ]
    }
   ],
   "source": [
    "# Creating a connection object\n",
    "\n",
    "cnxn = pymysql.connect(host=\"localhost\",\n",
    "                      user=\"root\",\n",
    "                      passwd=\"123@123\") \n",
    "\n",
    "if cnxn:\n",
    "    print(\"Connected with mysql successfully...\")\n",
    "else:\n",
    "    print(\"Something went wrong...\")"
   ]
  },
  {
   "cell_type": "code",
   "execution_count": 4,
   "id": "b179953e",
   "metadata": {},
   "outputs": [
    {
     "name": "stdout",
     "output_type": "stream",
     "text": [
      "List of databases:  ('cetpa',)\n",
      "List of databases:  ('cetpa_db',)\n",
      "List of databases:  ('college',)\n",
      "List of databases:  ('information_schema',)\n",
      "List of databases:  ('mysql',)\n",
      "List of databases:  ('performance_schema',)\n",
      "List of databases:  ('sakila',)\n",
      "List of databases:  ('sample_db',)\n",
      "List of databases:  ('sys',)\n",
      "List of databases:  ('world',)\n"
     ]
    }
   ],
   "source": [
    "# Creating a database\n",
    "\n",
    "cnxn = pymysql.connect(host=\"localhost\",\n",
    "                      user=\"root\",\n",
    "                      passwd=\"123@123\") \n",
    "# Creating a cursor\n",
    "cursor = cnxn.cursor()\n",
    "\n",
    "# Writing sql query\n",
    "query = \"create database cetpa_db;\"\n",
    "\n",
    "# Executing sql query\n",
    "cursor.execute(query)\n",
    "\n",
    "# Writing another sql query\n",
    "query1 = \"show databases;\"\n",
    "\n",
    "# Executing sql query\n",
    "\n",
    "cursor.execute(query1)\n",
    "\n",
    "for db in cursor:\n",
    "    print(\"List of databases: \", db)\n",
    "    \n",
    "# Closing connection    \n",
    "cnxn.close()    "
   ]
  },
  {
   "cell_type": "code",
   "execution_count": 5,
   "id": "6ffc3dec",
   "metadata": {},
   "outputs": [
    {
     "name": "stdout",
     "output_type": "stream",
     "text": [
      "List of tables:  ('employee',)\n"
     ]
    }
   ],
   "source": [
    "# Creating a table inside \"cetpa_db\"\n",
    "\n",
    "cnxn = pymysql.connect(host=\"localhost\",\n",
    "                      user=\"root\",\n",
    "                      passwd=\"123@123\",\n",
    "                      database=\"cetpa_db\") \n",
    "# Creating a cursor\n",
    "cursor = cnxn.cursor()\n",
    "\n",
    "# Writing sql query\n",
    "query = \"\"\"\n",
    "create table employee(\n",
    "id int primary key,\n",
    "name char,\n",
    "age int,\n",
    "salary float,\n",
    "address char\n",
    ");\n",
    "\"\"\"\n",
    "\n",
    "# Executing sql query\n",
    "cursor.execute(query)\n",
    "\n",
    "# Writing another sql query\n",
    "query1 = \"show tables;\"\n",
    "\n",
    "# Executing sql query\n",
    "\n",
    "cursor.execute(query1)\n",
    "\n",
    "for table in cursor:\n",
    "    print(\"List of tables: \", table)\n",
    "    \n",
    "# Closing connection    \n",
    "cnxn.close()    "
   ]
  },
  {
   "cell_type": "code",
   "execution_count": 8,
   "id": "61db259a",
   "metadata": {},
   "outputs": [
    {
     "name": "stdout",
     "output_type": "stream",
     "text": [
      "Rows:  (12, 'a', 29, 56899.0, 'n')\n",
      "Rows:  (24, 's', 22, 45000.0, 'm')\n",
      "Rows:  (34, 's', 20, 35000.0, 'd')\n"
     ]
    }
   ],
   "source": [
    "# Inserting data into the table\n",
    "\n",
    "cnxn = pymysql.connect(host=\"localhost\",\n",
    "                      user=\"root\",\n",
    "                      passwd=\"123@123\",\n",
    "                      database=\"cetpa_db\") \n",
    "# Creating a cursor\n",
    "cursor = cnxn.cursor()\n",
    "\n",
    "# Writing sql query\n",
    "query = \"\"\"\n",
    "insert into employee values(34,'s',20,35000,'d'),\n",
    "(24,'s',22,45000,'m'),\n",
    "(12,'a',29,56899,'n');\n",
    "\"\"\"\n",
    "\n",
    "# Commiting data\n",
    "cnxn.commit()\n",
    "\n",
    "# Executing sql query\n",
    "cursor.execute(query)\n",
    "\n",
    "# Writing another sql query\n",
    "query1 = \"select*from employee;\"\n",
    "\n",
    "# Executing sql query\n",
    "\n",
    "cursor.execute(query1)\n",
    "\n",
    "for row in cursor:\n",
    "    print(\"Rows: \", row)\n",
    "    \n",
    "# Closing connection    \n",
    "cnxn.close()    "
   ]
  },
  {
   "cell_type": "code",
   "execution_count": null,
   "id": "63faacdf",
   "metadata": {},
   "outputs": [],
   "source": [
    "# Salary\n",
    "\n",
    "id, number_of_days,total_salary"
   ]
  }
 ],
 "metadata": {
  "kernelspec": {
   "display_name": "Python 3 (ipykernel)",
   "language": "python",
   "name": "python3"
  },
  "language_info": {
   "codemirror_mode": {
    "name": "ipython",
    "version": 3
   },
   "file_extension": ".py",
   "mimetype": "text/x-python",
   "name": "python",
   "nbconvert_exporter": "python",
   "pygments_lexer": "ipython3",
   "version": "3.9.12"
  }
 },
 "nbformat": 4,
 "nbformat_minor": 5
}
